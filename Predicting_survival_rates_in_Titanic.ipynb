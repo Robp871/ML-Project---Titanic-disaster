{
 "cells": [
  {
   "cell_type": "code",
   "execution_count": 1272,
   "metadata": {
    "_cell_guid": "b1076dfc-b9ad-4769-8c92-a6c4dae69d19",
    "_uuid": "8f2839f25d086af736a60e9eeb907d3b93b6e0e5",
    "execution": {
     "iopub.execute_input": "2021-08-04T12:50:41.100835Z",
     "iopub.status.busy": "2021-08-04T12:50:41.100365Z",
     "iopub.status.idle": "2021-08-04T12:50:41.507453Z",
     "shell.execute_reply": "2021-08-04T12:50:41.506597Z",
     "shell.execute_reply.started": "2021-08-04T12:50:41.100756Z"
    }
   },
   "outputs": [],
   "source": [
    "# This Python 3 environment comes with many helpful analytics libraries installed\n",
    "# It is defined by the kaggle/python Docker image: https://github.com/kaggle/docker-python\n",
    "# For example, here's several helpful packages to load\n",
    "\n",
    "import numpy as np # linear algebra\n",
    "import matplotlib.pyplot as plt\n",
    "%matplotlib inline\n",
    "from sklearn.model_selection import train_test_split\n",
    "from sklearn import preprocessing #used for encoding of categorical variables\n",
    "import pandas as pd # data processing, CSV file I/O (e.g. pd.read_csv)\n",
    "from sklearn.ensemble import RandomForestClassifier\n",
    "from sklearn.metrics import accuracy_score, f1_score, plot_confusion_matrix\n",
    "from sklearn.model_selection import GridSearchCV\n",
    "\n",
    "# Input data files are available in the read-only \"../input/\" directory\n",
    "# For example, running this (by clicking run or pressing Shift+Enter) will list all files under the input directory\n",
    "\n",
    "import os\n",
    "\n",
    "file_list = []\n",
    "for dirname, _, filenames in os.walk(r'C:\\Users\\f93495c\\Downloads\\titanic'):\n",
    "    for filename in filenames:\n",
    "        file_list.append(os.path.join(dirname, filename))\n",
    "\n",
    "# You can write up to 20GB to the current directory (/kaggle/working/) that gets preserved as output when you create a version using \"Save & Run All\" \n",
    "# You can also write temporary files to /kaggle/temp/, but they won't be saved outside of the current session"
   ]
  },
  {
   "cell_type": "code",
   "execution_count": 1231,
   "metadata": {
    "execution": {
     "iopub.execute_input": "2021-08-04T12:50:41.512542Z",
     "iopub.status.busy": "2021-08-04T12:50:41.512046Z",
     "iopub.status.idle": "2021-08-04T12:50:41.521701Z",
     "shell.execute_reply": "2021-08-04T12:50:41.520578Z",
     "shell.execute_reply.started": "2021-08-04T12:50:41.512492Z"
    }
   },
   "outputs": [
    {
     "data": {
      "text/plain": [
       "['C:\\\\Users\\\\f93495c\\\\Downloads\\\\titanic\\\\test.csv',\n",
       " 'C:\\\\Users\\\\f93495c\\\\Downloads\\\\titanic\\\\train.csv']"
      ]
     },
     "execution_count": 1231,
     "metadata": {},
     "output_type": "execute_result"
    }
   ],
   "source": [
    "file_list"
   ]
  },
  {
   "cell_type": "code",
   "execution_count": 1232,
   "metadata": {
    "execution": {
     "iopub.execute_input": "2021-08-04T12:50:41.523959Z",
     "iopub.status.busy": "2021-08-04T12:50:41.523609Z",
     "iopub.status.idle": "2021-08-04T12:50:41.564031Z",
     "shell.execute_reply": "2021-08-04T12:50:41.562704Z",
     "shell.execute_reply.started": "2021-08-04T12:50:41.523924Z"
    }
   },
   "outputs": [
    {
     "data": {
      "text/html": [
       "<div>\n",
       "<style scoped>\n",
       "    .dataframe tbody tr th:only-of-type {\n",
       "        vertical-align: middle;\n",
       "    }\n",
       "\n",
       "    .dataframe tbody tr th {\n",
       "        vertical-align: top;\n",
       "    }\n",
       "\n",
       "    .dataframe thead th {\n",
       "        text-align: right;\n",
       "    }\n",
       "</style>\n",
       "<table border=\"1\" class=\"dataframe\">\n",
       "  <thead>\n",
       "    <tr style=\"text-align: right;\">\n",
       "      <th></th>\n",
       "      <th>PassengerId</th>\n",
       "      <th>Survived</th>\n",
       "      <th>Pclass</th>\n",
       "      <th>Name</th>\n",
       "      <th>Sex</th>\n",
       "      <th>Age</th>\n",
       "      <th>SibSp</th>\n",
       "      <th>Parch</th>\n",
       "      <th>Ticket</th>\n",
       "      <th>Fare</th>\n",
       "      <th>Cabin</th>\n",
       "      <th>Embarked</th>\n",
       "    </tr>\n",
       "  </thead>\n",
       "  <tbody>\n",
       "    <tr>\n",
       "      <th>0</th>\n",
       "      <td>1</td>\n",
       "      <td>0</td>\n",
       "      <td>3</td>\n",
       "      <td>Braund, Mr. Owen Harris</td>\n",
       "      <td>male</td>\n",
       "      <td>22.0</td>\n",
       "      <td>1</td>\n",
       "      <td>0</td>\n",
       "      <td>A/5 21171</td>\n",
       "      <td>7.2500</td>\n",
       "      <td>NaN</td>\n",
       "      <td>S</td>\n",
       "    </tr>\n",
       "    <tr>\n",
       "      <th>1</th>\n",
       "      <td>2</td>\n",
       "      <td>1</td>\n",
       "      <td>1</td>\n",
       "      <td>Cumings, Mrs. John Bradley (Florence Briggs Th...</td>\n",
       "      <td>female</td>\n",
       "      <td>38.0</td>\n",
       "      <td>1</td>\n",
       "      <td>0</td>\n",
       "      <td>PC 17599</td>\n",
       "      <td>71.2833</td>\n",
       "      <td>C85</td>\n",
       "      <td>C</td>\n",
       "    </tr>\n",
       "    <tr>\n",
       "      <th>2</th>\n",
       "      <td>3</td>\n",
       "      <td>1</td>\n",
       "      <td>3</td>\n",
       "      <td>Heikkinen, Miss. Laina</td>\n",
       "      <td>female</td>\n",
       "      <td>26.0</td>\n",
       "      <td>0</td>\n",
       "      <td>0</td>\n",
       "      <td>STON/O2. 3101282</td>\n",
       "      <td>7.9250</td>\n",
       "      <td>NaN</td>\n",
       "      <td>S</td>\n",
       "    </tr>\n",
       "    <tr>\n",
       "      <th>3</th>\n",
       "      <td>4</td>\n",
       "      <td>1</td>\n",
       "      <td>1</td>\n",
       "      <td>Futrelle, Mrs. Jacques Heath (Lily May Peel)</td>\n",
       "      <td>female</td>\n",
       "      <td>35.0</td>\n",
       "      <td>1</td>\n",
       "      <td>0</td>\n",
       "      <td>113803</td>\n",
       "      <td>53.1000</td>\n",
       "      <td>C123</td>\n",
       "      <td>S</td>\n",
       "    </tr>\n",
       "    <tr>\n",
       "      <th>4</th>\n",
       "      <td>5</td>\n",
       "      <td>0</td>\n",
       "      <td>3</td>\n",
       "      <td>Allen, Mr. William Henry</td>\n",
       "      <td>male</td>\n",
       "      <td>35.0</td>\n",
       "      <td>0</td>\n",
       "      <td>0</td>\n",
       "      <td>373450</td>\n",
       "      <td>8.0500</td>\n",
       "      <td>NaN</td>\n",
       "      <td>S</td>\n",
       "    </tr>\n",
       "  </tbody>\n",
       "</table>\n",
       "</div>"
      ],
      "text/plain": [
       "   PassengerId  Survived  Pclass  \\\n",
       "0            1         0       3   \n",
       "1            2         1       1   \n",
       "2            3         1       3   \n",
       "3            4         1       1   \n",
       "4            5         0       3   \n",
       "\n",
       "                                                Name     Sex   Age  SibSp  \\\n",
       "0                            Braund, Mr. Owen Harris    male  22.0      1   \n",
       "1  Cumings, Mrs. John Bradley (Florence Briggs Th...  female  38.0      1   \n",
       "2                             Heikkinen, Miss. Laina  female  26.0      0   \n",
       "3       Futrelle, Mrs. Jacques Heath (Lily May Peel)  female  35.0      1   \n",
       "4                           Allen, Mr. William Henry    male  35.0      0   \n",
       "\n",
       "   Parch            Ticket     Fare Cabin Embarked  \n",
       "0      0         A/5 21171   7.2500   NaN        S  \n",
       "1      0          PC 17599  71.2833   C85        C  \n",
       "2      0  STON/O2. 3101282   7.9250   NaN        S  \n",
       "3      0            113803  53.1000  C123        S  \n",
       "4      0            373450   8.0500   NaN        S  "
      ]
     },
     "execution_count": 1232,
     "metadata": {},
     "output_type": "execute_result"
    }
   ],
   "source": [
    "train_data = pd.read_csv(file_list[1])\n",
    "train_data.head()"
   ]
  },
  {
   "cell_type": "code",
   "execution_count": 1233,
   "metadata": {
    "execution": {
     "iopub.execute_input": "2021-08-04T12:50:41.566042Z",
     "iopub.status.busy": "2021-08-04T12:50:41.565684Z",
     "iopub.status.idle": "2021-08-04T12:50:41.594942Z",
     "shell.execute_reply": "2021-08-04T12:50:41.593503Z",
     "shell.execute_reply.started": "2021-08-04T12:50:41.566001Z"
    }
   },
   "outputs": [
    {
     "data": {
      "text/html": [
       "<div>\n",
       "<style scoped>\n",
       "    .dataframe tbody tr th:only-of-type {\n",
       "        vertical-align: middle;\n",
       "    }\n",
       "\n",
       "    .dataframe tbody tr th {\n",
       "        vertical-align: top;\n",
       "    }\n",
       "\n",
       "    .dataframe thead th {\n",
       "        text-align: right;\n",
       "    }\n",
       "</style>\n",
       "<table border=\"1\" class=\"dataframe\">\n",
       "  <thead>\n",
       "    <tr style=\"text-align: right;\">\n",
       "      <th></th>\n",
       "      <th>PassengerId</th>\n",
       "      <th>Pclass</th>\n",
       "      <th>Name</th>\n",
       "      <th>Sex</th>\n",
       "      <th>Age</th>\n",
       "      <th>SibSp</th>\n",
       "      <th>Parch</th>\n",
       "      <th>Ticket</th>\n",
       "      <th>Fare</th>\n",
       "      <th>Cabin</th>\n",
       "      <th>Embarked</th>\n",
       "    </tr>\n",
       "  </thead>\n",
       "  <tbody>\n",
       "    <tr>\n",
       "      <th>0</th>\n",
       "      <td>892</td>\n",
       "      <td>3</td>\n",
       "      <td>Kelly, Mr. James</td>\n",
       "      <td>male</td>\n",
       "      <td>34.5</td>\n",
       "      <td>0</td>\n",
       "      <td>0</td>\n",
       "      <td>330911</td>\n",
       "      <td>7.8292</td>\n",
       "      <td>NaN</td>\n",
       "      <td>Q</td>\n",
       "    </tr>\n",
       "    <tr>\n",
       "      <th>1</th>\n",
       "      <td>893</td>\n",
       "      <td>3</td>\n",
       "      <td>Wilkes, Mrs. James (Ellen Needs)</td>\n",
       "      <td>female</td>\n",
       "      <td>47.0</td>\n",
       "      <td>1</td>\n",
       "      <td>0</td>\n",
       "      <td>363272</td>\n",
       "      <td>7.0000</td>\n",
       "      <td>NaN</td>\n",
       "      <td>S</td>\n",
       "    </tr>\n",
       "    <tr>\n",
       "      <th>2</th>\n",
       "      <td>894</td>\n",
       "      <td>2</td>\n",
       "      <td>Myles, Mr. Thomas Francis</td>\n",
       "      <td>male</td>\n",
       "      <td>62.0</td>\n",
       "      <td>0</td>\n",
       "      <td>0</td>\n",
       "      <td>240276</td>\n",
       "      <td>9.6875</td>\n",
       "      <td>NaN</td>\n",
       "      <td>Q</td>\n",
       "    </tr>\n",
       "    <tr>\n",
       "      <th>3</th>\n",
       "      <td>895</td>\n",
       "      <td>3</td>\n",
       "      <td>Wirz, Mr. Albert</td>\n",
       "      <td>male</td>\n",
       "      <td>27.0</td>\n",
       "      <td>0</td>\n",
       "      <td>0</td>\n",
       "      <td>315154</td>\n",
       "      <td>8.6625</td>\n",
       "      <td>NaN</td>\n",
       "      <td>S</td>\n",
       "    </tr>\n",
       "    <tr>\n",
       "      <th>4</th>\n",
       "      <td>896</td>\n",
       "      <td>3</td>\n",
       "      <td>Hirvonen, Mrs. Alexander (Helga E Lindqvist)</td>\n",
       "      <td>female</td>\n",
       "      <td>22.0</td>\n",
       "      <td>1</td>\n",
       "      <td>1</td>\n",
       "      <td>3101298</td>\n",
       "      <td>12.2875</td>\n",
       "      <td>NaN</td>\n",
       "      <td>S</td>\n",
       "    </tr>\n",
       "  </tbody>\n",
       "</table>\n",
       "</div>"
      ],
      "text/plain": [
       "   PassengerId  Pclass                                          Name     Sex  \\\n",
       "0          892       3                              Kelly, Mr. James    male   \n",
       "1          893       3              Wilkes, Mrs. James (Ellen Needs)  female   \n",
       "2          894       2                     Myles, Mr. Thomas Francis    male   \n",
       "3          895       3                              Wirz, Mr. Albert    male   \n",
       "4          896       3  Hirvonen, Mrs. Alexander (Helga E Lindqvist)  female   \n",
       "\n",
       "    Age  SibSp  Parch   Ticket     Fare Cabin Embarked  \n",
       "0  34.5      0      0   330911   7.8292   NaN        Q  \n",
       "1  47.0      1      0   363272   7.0000   NaN        S  \n",
       "2  62.0      0      0   240276   9.6875   NaN        Q  \n",
       "3  27.0      0      0   315154   8.6625   NaN        S  \n",
       "4  22.0      1      1  3101298  12.2875   NaN        S  "
      ]
     },
     "execution_count": 1233,
     "metadata": {},
     "output_type": "execute_result"
    }
   ],
   "source": [
    "test_data = pd.read_csv(file_list[0])\n",
    "test_data.head()"
   ]
  },
  {
   "cell_type": "code",
   "execution_count": 1234,
   "metadata": {
    "execution": {
     "iopub.execute_input": "2021-08-04T12:50:41.596594Z",
     "iopub.status.busy": "2021-08-04T12:50:41.596295Z",
     "iopub.status.idle": "2021-08-04T12:50:41.604242Z",
     "shell.execute_reply": "2021-08-04T12:50:41.603312Z",
     "shell.execute_reply.started": "2021-08-04T12:50:41.596566Z"
    }
   },
   "outputs": [
    {
     "name": "stdout",
     "output_type": "stream",
     "text": [
      "% of women who survived: 0.7420382165605095\n"
     ]
    }
   ],
   "source": [
    "women = train_data.loc[train_data.Sex == 'female'][\"Survived\"]\n",
    "rate_women = sum(women)/len(women)\n",
    "\n",
    "print(\"% of women who survived:\", rate_women)"
   ]
  },
  {
   "cell_type": "code",
   "execution_count": 1235,
   "metadata": {
    "execution": {
     "iopub.execute_input": "2021-08-04T12:50:41.606024Z",
     "iopub.status.busy": "2021-08-04T12:50:41.605369Z",
     "iopub.status.idle": "2021-08-04T12:50:41.625155Z",
     "shell.execute_reply": "2021-08-04T12:50:41.623614Z",
     "shell.execute_reply.started": "2021-08-04T12:50:41.605966Z"
    }
   },
   "outputs": [
    {
     "name": "stdout",
     "output_type": "stream",
     "text": [
      "% of men who survived: 0.18890814558058924\n"
     ]
    }
   ],
   "source": [
    "men = train_data.loc[train_data.Sex == 'male'][\"Survived\"]\n",
    "rate_men = sum(men)/len(men)\n",
    "\n",
    "print(\"% of men who survived:\", rate_men)"
   ]
  },
  {
   "cell_type": "markdown",
   "metadata": {},
   "source": [
    "# Feature Engeneering "
   ]
  },
  {
   "cell_type": "markdown",
   "metadata": {},
   "source": [
    "**Checking Na values**"
   ]
  },
  {
   "cell_type": "code",
   "execution_count": 1236,
   "metadata": {},
   "outputs": [
    {
     "data": {
      "text/plain": [
       "PassengerId      0\n",
       "Survived         0\n",
       "Pclass           0\n",
       "Name             0\n",
       "Sex              0\n",
       "Age            177\n",
       "SibSp            0\n",
       "Parch            0\n",
       "Ticket           0\n",
       "Fare             0\n",
       "Cabin          687\n",
       "Embarked         2\n",
       "dtype: int64"
      ]
     },
     "execution_count": 1236,
     "metadata": {},
     "output_type": "execute_result"
    }
   ],
   "source": [
    "train_data.isnull().sum()"
   ]
  },
  {
   "cell_type": "code",
   "execution_count": 1237,
   "metadata": {},
   "outputs": [
    {
     "data": {
      "text/plain": [
       "PassengerId      0\n",
       "Pclass           0\n",
       "Name             0\n",
       "Sex              0\n",
       "Age             86\n",
       "SibSp            0\n",
       "Parch            0\n",
       "Ticket           0\n",
       "Fare             1\n",
       "Cabin          327\n",
       "Embarked         0\n",
       "dtype: int64"
      ]
     },
     "execution_count": 1237,
     "metadata": {},
     "output_type": "execute_result"
    }
   ],
   "source": [
    "test_data.isnull().sum()"
   ]
  },
  {
   "cell_type": "markdown",
   "metadata": {},
   "source": [
    "**Classes of Fare by Range of Fare paid**"
   ]
  },
  {
   "cell_type": "code",
   "execution_count": 1238,
   "metadata": {
    "execution": {
     "iopub.execute_input": "2021-08-04T12:50:41.627535Z",
     "iopub.status.busy": "2021-08-04T12:50:41.627195Z",
     "iopub.status.idle": "2021-08-04T12:50:41.644891Z",
     "shell.execute_reply": "2021-08-04T12:50:41.643709Z",
     "shell.execute_reply.started": "2021-08-04T12:50:41.627504Z"
    }
   },
   "outputs": [],
   "source": [
    "le = preprocessing.LabelEncoder()\n",
    "train_data['Fare_range'] = le.fit_transform(pd.cut(train_data['Fare'].astype(float), 20)) "
   ]
  },
  {
   "cell_type": "code",
   "execution_count": 1239,
   "metadata": {
    "execution": {
     "iopub.execute_input": "2021-08-04T12:50:41.646714Z",
     "iopub.status.busy": "2021-08-04T12:50:41.646386Z",
     "iopub.status.idle": "2021-08-04T12:50:41.672441Z",
     "shell.execute_reply": "2021-08-04T12:50:41.670741Z",
     "shell.execute_reply.started": "2021-08-04T12:50:41.646667Z"
    }
   },
   "outputs": [
    {
     "name": "stdout",
     "output_type": "stream",
     "text": [
      "the average fare paid is 35.63 dollars.\n",
      "this value will be used to fill the na values in the test set.\n"
     ]
    }
   ],
   "source": [
    "avg_fare = round(test_data.dropna(subset = ['Fare']).mean()['Fare'],2)\n",
    "print('the average fare paid is {} dollars.'.format(avg_fare))\n",
    "print('this value will be used to fill the na values in the test set.')"
   ]
  },
  {
   "cell_type": "code",
   "execution_count": 1240,
   "metadata": {
    "execution": {
     "iopub.execute_input": "2021-08-04T12:50:41.677427Z",
     "iopub.status.busy": "2021-08-04T12:50:41.676922Z",
     "iopub.status.idle": "2021-08-04T12:50:41.684987Z",
     "shell.execute_reply": "2021-08-04T12:50:41.683493Z",
     "shell.execute_reply.started": "2021-08-04T12:50:41.677375Z"
    }
   },
   "outputs": [],
   "source": [
    "test_data['Fare'] = np.where(test_data['Fare'].isna(), avg_fare,test_data['Fare'])"
   ]
  },
  {
   "cell_type": "code",
   "execution_count": 1241,
   "metadata": {
    "execution": {
     "iopub.execute_input": "2021-08-04T12:50:41.687692Z",
     "iopub.status.busy": "2021-08-04T12:50:41.687224Z",
     "iopub.status.idle": "2021-08-04T12:50:41.708028Z",
     "shell.execute_reply": "2021-08-04T12:50:41.706431Z",
     "shell.execute_reply.started": "2021-08-04T12:50:41.687651Z"
    }
   },
   "outputs": [],
   "source": [
    "test_data['Fare_range'] = le.fit_transform(pd.cut(test_data['Fare'].astype(float), 10))"
   ]
  },
  {
   "cell_type": "code",
   "execution_count": 1242,
   "metadata": {
    "execution": {
     "iopub.execute_input": "2021-08-04T12:50:41.711059Z",
     "iopub.status.busy": "2021-08-04T12:50:41.710115Z",
     "iopub.status.idle": "2021-08-04T12:50:42.062643Z",
     "shell.execute_reply": "2021-08-04T12:50:42.061286Z",
     "shell.execute_reply.started": "2021-08-04T12:50:41.711001Z"
    }
   },
   "outputs": [
    {
     "data": {
      "image/png": "[encoded data removed]",
      "text/plain": [
       "<Figure size 720x216 with 2 Axes>"
      ]
     },
     "metadata": {
      "needs_background": "light"
     },
     "output_type": "display_data"
    }
   ],
   "source": [
    "male_fare = train_data.loc[train_data['Sex'] == 'male']['Fare_range']\n",
    "female_fare = train_data.loc[train_data['Sex'] == 'female']['Fare_range']\n",
    "plt.figure(figsize=(10, 3))\n",
    "plt.subplot(131)\n",
    "plt.hist(male_fare)\n",
    "plt.subplot(132)\n",
    "plt.hist(female_fare)\n",
    "plt.show()"
   ]
  },
  {
   "cell_type": "markdown",
   "metadata": {},
   "source": [
    "**Fill Na for AGE with the Mean**"
   ]
  },
  {
   "cell_type": "code",
   "execution_count": 1243,
   "metadata": {},
   "outputs": [
    {
     "name": "stdout",
     "output_type": "stream",
     "text": [
      "Age is missing for 177 passengers\n"
     ]
    }
   ],
   "source": [
    "print('Age is missing for {} passengers'.format(len(list(np.where(train_data['Age'].isna())[0]))))"
   ]
  },
  {
   "cell_type": "code",
   "execution_count": 1244,
   "metadata": {},
   "outputs": [
    {
     "name": "stdout",
     "output_type": "stream",
     "text": [
      "The average age of the training sample is 30.\n"
     ]
    }
   ],
   "source": [
    "average_age = round(train_data['Age'].dropna().mean(),0)\n",
    "print('The average age of the training sample is {}.'.format(int(average_age)))"
   ]
  },
  {
   "cell_type": "code",
   "execution_count": 1245,
   "metadata": {},
   "outputs": [],
   "source": [
    "train_data['Age'] = train_data['Age'].fillna(average_age)\n",
    "test_data['Age'] = test_data['Age'].fillna(average_age)"
   ]
  },
  {
   "cell_type": "markdown",
   "metadata": {},
   "source": [
    "**Determine a new feature \"Title\"**"
   ]
  },
  {
   "cell_type": "code",
   "execution_count": 1246,
   "metadata": {
    "execution": {
     "iopub.execute_input": "2021-08-04T12:50:42.065162Z",
     "iopub.status.busy": "2021-08-04T12:50:42.064661Z",
     "iopub.status.idle": "2021-08-04T12:50:42.084099Z",
     "shell.execute_reply": "2021-08-04T12:50:42.082813Z",
     "shell.execute_reply.started": "2021-08-04T12:50:42.065107Z"
    }
   },
   "outputs": [
    {
     "data": {
      "text/plain": [
       "['Mr.', 'Mrs.', 'Miss.', 'Master.', 'Ms.', 'Col.', 'Rev.', 'Dr.', 'Dona.']"
      ]
     },
     "execution_count": 1246,
     "metadata": {},
     "output_type": "execute_result"
    }
   ],
   "source": [
    "train_titles = train_data['Name'].astype(str).str.findall('(?:\\S*\\.)')\n",
    "test_titles = test_data['Name'].astype(str).str.findall('(?:\\S*\\.)')\n",
    "\n",
    "def unique_titles(titles):\n",
    "    formatted_titles = []\n",
    "    for i in titles:\n",
    "        title = i[0] \n",
    "        if title not in formatted_titles:\n",
    "            formatted_titles.append(title)\n",
    "    return formatted_titles\n",
    "\n",
    "title_groups = unique_titles(train_titles)\n",
    "test_title_groups = unique_titles(test_titles)\n",
    "test_title_groups"
   ]
  },
  {
   "cell_type": "code",
   "execution_count": 1247,
   "metadata": {
    "execution": {
     "iopub.execute_input": "2021-08-04T12:50:42.086379Z",
     "iopub.status.busy": "2021-08-04T12:50:42.085916Z",
     "iopub.status.idle": "2021-08-04T12:50:42.102624Z",
     "shell.execute_reply": "2021-08-04T12:50:42.101361Z",
     "shell.execute_reply.started": "2021-08-04T12:50:42.086324Z"
    }
   },
   "outputs": [],
   "source": [
    "def titles(df):\n",
    "    listoftitles = df['Name'].astype(str).str.findall('(?:\\S*\\.)')\n",
    "    return listoftitles\n",
    "\n",
    "def formatted_titles(df):\n",
    "    listoftitles = titles(df)\n",
    "    formatted_titles = []\n",
    "    for i in listoftitles:\n",
    "        title = i[0] \n",
    "        if title == 'Dona.':\n",
    "            title = 'Don.'\n",
    "        formatted_titles.append(title)\n",
    "    df['Title_name'] = formatted_titles\n",
    "    return df\n",
    "\n",
    "def df_encoded_titles(df):\n",
    "    le = preprocessing.LabelEncoder()\n",
    "    df = formatted_titles(df)\n",
    "    df['Title_Class'] = le.fit_transform(df['Title_name'])\n",
    "    return df\n",
    "\n",
    "def title_ranges_encoder(df):\n",
    "    titledf = pd.DataFrame()\n",
    "    titledf['Title_Class'] = pd.cut(df.groupby(by = 'Title_name').mean()['Pclass'],3)\n",
    "    titledf['Title_Class'] = le.fit_transform(titledf['Title_Class'])\n",
    "    return titledf.reset_index()\n",
    "\n",
    "def title_groups(df):\n",
    "    df = formatted_titles(df)\n",
    "    title_range = title_ranges_encoder(df)\n",
    "    newdf = pd.merge(df, title_range, on = 'Title_name', how = 'left')\n",
    "    return newdf"
   ]
  },
  {
   "cell_type": "code",
   "execution_count": 1248,
   "metadata": {},
   "outputs": [],
   "source": [
    "train_data = df_encoded_titles(train_data)\n",
    "test_data = df_encoded_titles(test_data)"
   ]
  },
  {
   "cell_type": "markdown",
   "metadata": {},
   "source": [
    "**Determine a new feature \"N.Relatives\"**"
   ]
  },
  {
   "cell_type": "code",
   "execution_count": 1249,
   "metadata": {
    "execution": {
     "iopub.execute_input": "2021-08-04T12:50:42.104917Z",
     "iopub.status.busy": "2021-08-04T12:50:42.104529Z",
     "iopub.status.idle": "2021-08-04T12:50:42.120188Z",
     "shell.execute_reply": "2021-08-04T12:50:42.118984Z",
     "shell.execute_reply.started": "2021-08-04T12:50:42.104885Z"
    }
   },
   "outputs": [],
   "source": [
    "def tot_relatives(col1, col2):\n",
    "    relatives = col1 + col2\n",
    "    return relatives\n",
    "\n",
    "train_data['N.Relatives'] = tot_relatives(train_data['SibSp'],train_data['Parch'])\n",
    "test_data['N.Relatives'] = tot_relatives(test_data['SibSp'],test_data['Parch'])"
   ]
  },
  {
   "cell_type": "code",
   "execution_count": 1250,
   "metadata": {},
   "outputs": [
    {
     "data": {
      "text/plain": [
       "<matplotlib.axes._subplots.AxesSubplot at 0x2d5fc320bb0>"
      ]
     },
     "execution_count": 1250,
     "metadata": {},
     "output_type": "execute_result"
    },
    {
     "data": {
      "image/png": "[encoded data removed]",
      "text/plain": [
       "<Figure size 432x288 with 1 Axes>"
      ]
     },
     "metadata": {
      "needs_background": "light"
     },
     "output_type": "display_data"
    }
   ],
   "source": [
    "train_data.groupby(by='N.Relatives').mean()['Survived'].plot()"
   ]
  },
  {
   "cell_type": "markdown",
   "metadata": {},
   "source": [
    "**Fill Na in Embarked (google says both na are = S)**"
   ]
  },
  {
   "cell_type": "code",
   "execution_count": 1251,
   "metadata": {},
   "outputs": [],
   "source": [
    "train_data['Embarked'] = train_data['Embarked'].fillna('S')"
   ]
  },
  {
   "cell_type": "markdown",
   "metadata": {},
   "source": [
    "**Determine a new feature \"Company\", based on the number of passengers with the same Ticket number**"
   ]
  },
  {
   "cell_type": "code",
   "execution_count": 1252,
   "metadata": {
    "execution": {
     "iopub.execute_input": "2021-08-04T12:50:42.122913Z",
     "iopub.status.busy": "2021-08-04T12:50:42.122304Z",
     "iopub.status.idle": "2021-08-04T12:50:42.136177Z",
     "shell.execute_reply": "2021-08-04T12:50:42.134731Z",
     "shell.execute_reply.started": "2021-08-04T12:50:42.122794Z"
    }
   },
   "outputs": [],
   "source": [
    "def company(df):\n",
    "    ticket_company = df.groupby(by='Ticket').count().sort_values(by = 'PassengerId', ascending = False)['PassengerId'].reset_index().rename(columns = {'PassengerId': 'Company' })\n",
    "    return ticket_company\n",
    "\n",
    "def create_company_column(df):\n",
    "    company_df = company(df)\n",
    "    merged_df = pd.merge(df, company_df, on = 'Ticket', how = 'left')\n",
    "    return merged_df"
   ]
  },
  {
   "cell_type": "code",
   "execution_count": 1253,
   "metadata": {
    "execution": {
     "iopub.execute_input": "2021-08-04T12:50:42.138802Z",
     "iopub.status.busy": "2021-08-04T12:50:42.138263Z",
     "iopub.status.idle": "2021-08-04T12:50:42.178061Z",
     "shell.execute_reply": "2021-08-04T12:50:42.176758Z",
     "shell.execute_reply.started": "2021-08-04T12:50:42.138748Z"
    }
   },
   "outputs": [],
   "source": [
    "train_data = create_company_column(train_data)\n",
    "test_data = create_company_column(test_data)"
   ]
  },
  {
   "cell_type": "code",
   "execution_count": 1254,
   "metadata": {},
   "outputs": [
    {
     "data": {
      "text/html": [
       "<div>\n",
       "<style scoped>\n",
       "    .dataframe tbody tr th:only-of-type {\n",
       "        vertical-align: middle;\n",
       "    }\n",
       "\n",
       "    .dataframe tbody tr th {\n",
       "        vertical-align: top;\n",
       "    }\n",
       "\n",
       "    .dataframe thead th {\n",
       "        text-align: right;\n",
       "    }\n",
       "</style>\n",
       "<table border=\"1\" class=\"dataframe\">\n",
       "  <thead>\n",
       "    <tr style=\"text-align: right;\">\n",
       "      <th></th>\n",
       "      <th>PassengerId</th>\n",
       "      <th>Survived</th>\n",
       "      <th>Pclass</th>\n",
       "      <th>Name</th>\n",
       "      <th>Sex</th>\n",
       "      <th>Age</th>\n",
       "      <th>SibSp</th>\n",
       "      <th>Parch</th>\n",
       "      <th>Ticket</th>\n",
       "      <th>Fare</th>\n",
       "      <th>Cabin</th>\n",
       "      <th>Embarked</th>\n",
       "      <th>Fare_range</th>\n",
       "      <th>Title_name</th>\n",
       "      <th>Title_Class</th>\n",
       "      <th>N.Relatives</th>\n",
       "      <th>Company</th>\n",
       "    </tr>\n",
       "  </thead>\n",
       "  <tbody>\n",
       "    <tr>\n",
       "      <th>0</th>\n",
       "      <td>1</td>\n",
       "      <td>0</td>\n",
       "      <td>3</td>\n",
       "      <td>Braund, Mr. Owen Harris</td>\n",
       "      <td>male</td>\n",
       "      <td>22.0</td>\n",
       "      <td>1</td>\n",
       "      <td>0</td>\n",
       "      <td>A/5 21171</td>\n",
       "      <td>7.2500</td>\n",
       "      <td>NaN</td>\n",
       "      <td>S</td>\n",
       "      <td>0</td>\n",
       "      <td>Mr.</td>\n",
       "      <td>12</td>\n",
       "      <td>1</td>\n",
       "      <td>1</td>\n",
       "    </tr>\n",
       "    <tr>\n",
       "      <th>1</th>\n",
       "      <td>2</td>\n",
       "      <td>1</td>\n",
       "      <td>1</td>\n",
       "      <td>Cumings, Mrs. John Bradley (Florence Briggs Th...</td>\n",
       "      <td>female</td>\n",
       "      <td>38.0</td>\n",
       "      <td>1</td>\n",
       "      <td>0</td>\n",
       "      <td>PC 17599</td>\n",
       "      <td>71.2833</td>\n",
       "      <td>C85</td>\n",
       "      <td>C</td>\n",
       "      <td>2</td>\n",
       "      <td>Mrs.</td>\n",
       "      <td>13</td>\n",
       "      <td>1</td>\n",
       "      <td>1</td>\n",
       "    </tr>\n",
       "    <tr>\n",
       "      <th>2</th>\n",
       "      <td>3</td>\n",
       "      <td>1</td>\n",
       "      <td>3</td>\n",
       "      <td>Heikkinen, Miss. Laina</td>\n",
       "      <td>female</td>\n",
       "      <td>26.0</td>\n",
       "      <td>0</td>\n",
       "      <td>0</td>\n",
       "      <td>STON/O2. 3101282</td>\n",
       "      <td>7.9250</td>\n",
       "      <td>NaN</td>\n",
       "      <td>S</td>\n",
       "      <td>0</td>\n",
       "      <td>Miss.</td>\n",
       "      <td>9</td>\n",
       "      <td>0</td>\n",
       "      <td>1</td>\n",
       "    </tr>\n",
       "    <tr>\n",
       "      <th>3</th>\n",
       "      <td>4</td>\n",
       "      <td>1</td>\n",
       "      <td>1</td>\n",
       "      <td>Futrelle, Mrs. Jacques Heath (Lily May Peel)</td>\n",
       "      <td>female</td>\n",
       "      <td>35.0</td>\n",
       "      <td>1</td>\n",
       "      <td>0</td>\n",
       "      <td>113803</td>\n",
       "      <td>53.1000</td>\n",
       "      <td>C123</td>\n",
       "      <td>S</td>\n",
       "      <td>2</td>\n",
       "      <td>Mrs.</td>\n",
       "      <td>13</td>\n",
       "      <td>1</td>\n",
       "      <td>2</td>\n",
       "    </tr>\n",
       "    <tr>\n",
       "      <th>4</th>\n",
       "      <td>5</td>\n",
       "      <td>0</td>\n",
       "      <td>3</td>\n",
       "      <td>Allen, Mr. William Henry</td>\n",
       "      <td>male</td>\n",
       "      <td>35.0</td>\n",
       "      <td>0</td>\n",
       "      <td>0</td>\n",
       "      <td>373450</td>\n",
       "      <td>8.0500</td>\n",
       "      <td>NaN</td>\n",
       "      <td>S</td>\n",
       "      <td>0</td>\n",
       "      <td>Mr.</td>\n",
       "      <td>12</td>\n",
       "      <td>0</td>\n",
       "      <td>1</td>\n",
       "    </tr>\n",
       "    <tr>\n",
       "      <th>...</th>\n",
       "      <td>...</td>\n",
       "      <td>...</td>\n",
       "      <td>...</td>\n",
       "      <td>...</td>\n",
       "      <td>...</td>\n",
       "      <td>...</td>\n",
       "      <td>...</td>\n",
       "      <td>...</td>\n",
       "      <td>...</td>\n",
       "      <td>...</td>\n",
       "      <td>...</td>\n",
       "      <td>...</td>\n",
       "      <td>...</td>\n",
       "      <td>...</td>\n",
       "      <td>...</td>\n",
       "      <td>...</td>\n",
       "      <td>...</td>\n",
       "    </tr>\n",
       "    <tr>\n",
       "      <th>886</th>\n",
       "      <td>887</td>\n",
       "      <td>0</td>\n",
       "      <td>2</td>\n",
       "      <td>Montvila, Rev. Juozas</td>\n",
       "      <td>male</td>\n",
       "      <td>27.0</td>\n",
       "      <td>0</td>\n",
       "      <td>0</td>\n",
       "      <td>211536</td>\n",
       "      <td>13.0000</td>\n",
       "      <td>NaN</td>\n",
       "      <td>S</td>\n",
       "      <td>0</td>\n",
       "      <td>Rev.</td>\n",
       "      <td>15</td>\n",
       "      <td>0</td>\n",
       "      <td>1</td>\n",
       "    </tr>\n",
       "    <tr>\n",
       "      <th>887</th>\n",
       "      <td>888</td>\n",
       "      <td>1</td>\n",
       "      <td>1</td>\n",
       "      <td>Graham, Miss. Margaret Edith</td>\n",
       "      <td>female</td>\n",
       "      <td>19.0</td>\n",
       "      <td>0</td>\n",
       "      <td>0</td>\n",
       "      <td>112053</td>\n",
       "      <td>30.0000</td>\n",
       "      <td>B42</td>\n",
       "      <td>S</td>\n",
       "      <td>1</td>\n",
       "      <td>Miss.</td>\n",
       "      <td>9</td>\n",
       "      <td>0</td>\n",
       "      <td>1</td>\n",
       "    </tr>\n",
       "    <tr>\n",
       "      <th>888</th>\n",
       "      <td>889</td>\n",
       "      <td>0</td>\n",
       "      <td>3</td>\n",
       "      <td>Johnston, Miss. Catherine Helen \"Carrie\"</td>\n",
       "      <td>female</td>\n",
       "      <td>30.0</td>\n",
       "      <td>1</td>\n",
       "      <td>2</td>\n",
       "      <td>W./C. 6607</td>\n",
       "      <td>23.4500</td>\n",
       "      <td>NaN</td>\n",
       "      <td>S</td>\n",
       "      <td>0</td>\n",
       "      <td>Miss.</td>\n",
       "      <td>9</td>\n",
       "      <td>3</td>\n",
       "      <td>2</td>\n",
       "    </tr>\n",
       "    <tr>\n",
       "      <th>889</th>\n",
       "      <td>890</td>\n",
       "      <td>1</td>\n",
       "      <td>1</td>\n",
       "      <td>Behr, Mr. Karl Howell</td>\n",
       "      <td>male</td>\n",
       "      <td>26.0</td>\n",
       "      <td>0</td>\n",
       "      <td>0</td>\n",
       "      <td>111369</td>\n",
       "      <td>30.0000</td>\n",
       "      <td>C148</td>\n",
       "      <td>C</td>\n",
       "      <td>1</td>\n",
       "      <td>Mr.</td>\n",
       "      <td>12</td>\n",
       "      <td>0</td>\n",
       "      <td>1</td>\n",
       "    </tr>\n",
       "    <tr>\n",
       "      <th>890</th>\n",
       "      <td>891</td>\n",
       "      <td>0</td>\n",
       "      <td>3</td>\n",
       "      <td>Dooley, Mr. Patrick</td>\n",
       "      <td>male</td>\n",
       "      <td>32.0</td>\n",
       "      <td>0</td>\n",
       "      <td>0</td>\n",
       "      <td>370376</td>\n",
       "      <td>7.7500</td>\n",
       "      <td>NaN</td>\n",
       "      <td>Q</td>\n",
       "      <td>0</td>\n",
       "      <td>Mr.</td>\n",
       "      <td>12</td>\n",
       "      <td>0</td>\n",
       "      <td>1</td>\n",
       "    </tr>\n",
       "  </tbody>\n",
       "</table>\n",
       "<p>891 rows × 17 columns</p>\n",
       "</div>"
      ],
      "text/plain": [
       "     PassengerId  Survived  Pclass  \\\n",
       "0              1         0       3   \n",
       "1              2         1       1   \n",
       "2              3         1       3   \n",
       "3              4         1       1   \n",
       "4              5         0       3   \n",
       "..           ...       ...     ...   \n",
       "886          887         0       2   \n",
       "887          888         1       1   \n",
       "888          889         0       3   \n",
       "889          890         1       1   \n",
       "890          891         0       3   \n",
       "\n",
       "                                                  Name     Sex   Age  SibSp  \\\n",
       "0                              Braund, Mr. Owen Harris    male  22.0      1   \n",
       "1    Cumings, Mrs. John Bradley (Florence Briggs Th...  female  38.0      1   \n",
       "2                               Heikkinen, Miss. Laina  female  26.0      0   \n",
       "3         Futrelle, Mrs. Jacques Heath (Lily May Peel)  female  35.0      1   \n",
       "4                             Allen, Mr. William Henry    male  35.0      0   \n",
       "..                                                 ...     ...   ...    ...   \n",
       "886                              Montvila, Rev. Juozas    male  27.0      0   \n",
       "887                       Graham, Miss. Margaret Edith  female  19.0      0   \n",
       "888           Johnston, Miss. Catherine Helen \"Carrie\"  female  30.0      1   \n",
       "889                              Behr, Mr. Karl Howell    male  26.0      0   \n",
       "890                                Dooley, Mr. Patrick    male  32.0      0   \n",
       "\n",
       "     Parch            Ticket     Fare Cabin Embarked  Fare_range Title_name  \\\n",
       "0        0         A/5 21171   7.2500   NaN        S           0        Mr.   \n",
       "1        0          PC 17599  71.2833   C85        C           2       Mrs.   \n",
       "2        0  STON/O2. 3101282   7.9250   NaN        S           0      Miss.   \n",
       "3        0            113803  53.1000  C123        S           2       Mrs.   \n",
       "4        0            373450   8.0500   NaN        S           0        Mr.   \n",
       "..     ...               ...      ...   ...      ...         ...        ...   \n",
       "886      0            211536  13.0000   NaN        S           0       Rev.   \n",
       "887      0            112053  30.0000   B42        S           1      Miss.   \n",
       "888      2        W./C. 6607  23.4500   NaN        S           0      Miss.   \n",
       "889      0            111369  30.0000  C148        C           1        Mr.   \n",
       "890      0            370376   7.7500   NaN        Q           0        Mr.   \n",
       "\n",
       "     Title_Class  N.Relatives  Company  \n",
       "0             12            1        1  \n",
       "1             13            1        1  \n",
       "2              9            0        1  \n",
       "3             13            1        2  \n",
       "4             12            0        1  \n",
       "..           ...          ...      ...  \n",
       "886           15            0        1  \n",
       "887            9            0        1  \n",
       "888            9            3        2  \n",
       "889           12            0        1  \n",
       "890           12            0        1  \n",
       "\n",
       "[891 rows x 17 columns]"
      ]
     },
     "execution_count": 1254,
     "metadata": {},
     "output_type": "execute_result"
    }
   ],
   "source": [
    "train_data"
   ]
  },
  {
   "cell_type": "markdown",
   "metadata": {},
   "source": [
    "## Encoding"
   ]
  },
  {
   "cell_type": "code",
   "execution_count": 1255,
   "metadata": {
    "execution": {
     "iopub.execute_input": "2021-08-04T12:50:42.180501Z",
     "iopub.status.busy": "2021-08-04T12:50:42.179953Z",
     "iopub.status.idle": "2021-08-04T12:50:42.186981Z",
     "shell.execute_reply": "2021-08-04T12:50:42.185614Z",
     "shell.execute_reply.started": "2021-08-04T12:50:42.180442Z"
    }
   },
   "outputs": [],
   "source": [
    "features = ['Pclass', 'Sex', 'SibSp', 'Parch', 'Age', 'Fare_range', 'N.Relatives', 'Title_Class', 'Embarked', 'Company']"
   ]
  },
  {
   "cell_type": "code",
   "execution_count": 1256,
   "metadata": {},
   "outputs": [],
   "source": [
    "def encoded_data(df, features):\n",
    "    enc_df = pd.get_dummies(df[features])\n",
    "    return enc_df"
   ]
  },
  {
   "cell_type": "code",
   "execution_count": 1257,
   "metadata": {},
   "outputs": [
    {
     "data": {
      "text/html": [
       "<div>\n",
       "<style scoped>\n",
       "    .dataframe tbody tr th:only-of-type {\n",
       "        vertical-align: middle;\n",
       "    }\n",
       "\n",
       "    .dataframe tbody tr th {\n",
       "        vertical-align: top;\n",
       "    }\n",
       "\n",
       "    .dataframe thead th {\n",
       "        text-align: right;\n",
       "    }\n",
       "</style>\n",
       "<table border=\"1\" class=\"dataframe\">\n",
       "  <thead>\n",
       "    <tr style=\"text-align: right;\">\n",
       "      <th></th>\n",
       "      <th>Pclass</th>\n",
       "      <th>SibSp</th>\n",
       "      <th>Parch</th>\n",
       "      <th>Age</th>\n",
       "      <th>Fare_range</th>\n",
       "      <th>N.Relatives</th>\n",
       "      <th>Title_Class</th>\n",
       "      <th>Company</th>\n",
       "      <th>Sex_female</th>\n",
       "      <th>Sex_male</th>\n",
       "      <th>Embarked_C</th>\n",
       "      <th>Embarked_Q</th>\n",
       "      <th>Embarked_S</th>\n",
       "    </tr>\n",
       "  </thead>\n",
       "  <tbody>\n",
       "    <tr>\n",
       "      <th>0</th>\n",
       "      <td>3</td>\n",
       "      <td>1</td>\n",
       "      <td>0</td>\n",
       "      <td>22.0</td>\n",
       "      <td>0</td>\n",
       "      <td>1</td>\n",
       "      <td>12</td>\n",
       "      <td>1</td>\n",
       "      <td>0</td>\n",
       "      <td>1</td>\n",
       "      <td>0</td>\n",
       "      <td>0</td>\n",
       "      <td>1</td>\n",
       "    </tr>\n",
       "    <tr>\n",
       "      <th>1</th>\n",
       "      <td>1</td>\n",
       "      <td>1</td>\n",
       "      <td>0</td>\n",
       "      <td>38.0</td>\n",
       "      <td>2</td>\n",
       "      <td>1</td>\n",
       "      <td>13</td>\n",
       "      <td>1</td>\n",
       "      <td>1</td>\n",
       "      <td>0</td>\n",
       "      <td>1</td>\n",
       "      <td>0</td>\n",
       "      <td>0</td>\n",
       "    </tr>\n",
       "    <tr>\n",
       "      <th>2</th>\n",
       "      <td>3</td>\n",
       "      <td>0</td>\n",
       "      <td>0</td>\n",
       "      <td>26.0</td>\n",
       "      <td>0</td>\n",
       "      <td>0</td>\n",
       "      <td>9</td>\n",
       "      <td>1</td>\n",
       "      <td>1</td>\n",
       "      <td>0</td>\n",
       "      <td>0</td>\n",
       "      <td>0</td>\n",
       "      <td>1</td>\n",
       "    </tr>\n",
       "    <tr>\n",
       "      <th>3</th>\n",
       "      <td>1</td>\n",
       "      <td>1</td>\n",
       "      <td>0</td>\n",
       "      <td>35.0</td>\n",
       "      <td>2</td>\n",
       "      <td>1</td>\n",
       "      <td>13</td>\n",
       "      <td>2</td>\n",
       "      <td>1</td>\n",
       "      <td>0</td>\n",
       "      <td>0</td>\n",
       "      <td>0</td>\n",
       "      <td>1</td>\n",
       "    </tr>\n",
       "    <tr>\n",
       "      <th>4</th>\n",
       "      <td>3</td>\n",
       "      <td>0</td>\n",
       "      <td>0</td>\n",
       "      <td>35.0</td>\n",
       "      <td>0</td>\n",
       "      <td>0</td>\n",
       "      <td>12</td>\n",
       "      <td>1</td>\n",
       "      <td>0</td>\n",
       "      <td>1</td>\n",
       "      <td>0</td>\n",
       "      <td>0</td>\n",
       "      <td>1</td>\n",
       "    </tr>\n",
       "    <tr>\n",
       "      <th>...</th>\n",
       "      <td>...</td>\n",
       "      <td>...</td>\n",
       "      <td>...</td>\n",
       "      <td>...</td>\n",
       "      <td>...</td>\n",
       "      <td>...</td>\n",
       "      <td>...</td>\n",
       "      <td>...</td>\n",
       "      <td>...</td>\n",
       "      <td>...</td>\n",
       "      <td>...</td>\n",
       "      <td>...</td>\n",
       "      <td>...</td>\n",
       "    </tr>\n",
       "    <tr>\n",
       "      <th>886</th>\n",
       "      <td>2</td>\n",
       "      <td>0</td>\n",
       "      <td>0</td>\n",
       "      <td>27.0</td>\n",
       "      <td>0</td>\n",
       "      <td>0</td>\n",
       "      <td>15</td>\n",
       "      <td>1</td>\n",
       "      <td>0</td>\n",
       "      <td>1</td>\n",
       "      <td>0</td>\n",
       "      <td>0</td>\n",
       "      <td>1</td>\n",
       "    </tr>\n",
       "    <tr>\n",
       "      <th>887</th>\n",
       "      <td>1</td>\n",
       "      <td>0</td>\n",
       "      <td>0</td>\n",
       "      <td>19.0</td>\n",
       "      <td>1</td>\n",
       "      <td>0</td>\n",
       "      <td>9</td>\n",
       "      <td>1</td>\n",
       "      <td>1</td>\n",
       "      <td>0</td>\n",
       "      <td>0</td>\n",
       "      <td>0</td>\n",
       "      <td>1</td>\n",
       "    </tr>\n",
       "    <tr>\n",
       "      <th>888</th>\n",
       "      <td>3</td>\n",
       "      <td>1</td>\n",
       "      <td>2</td>\n",
       "      <td>30.0</td>\n",
       "      <td>0</td>\n",
       "      <td>3</td>\n",
       "      <td>9</td>\n",
       "      <td>2</td>\n",
       "      <td>1</td>\n",
       "      <td>0</td>\n",
       "      <td>0</td>\n",
       "      <td>0</td>\n",
       "      <td>1</td>\n",
       "    </tr>\n",
       "    <tr>\n",
       "      <th>889</th>\n",
       "      <td>1</td>\n",
       "      <td>0</td>\n",
       "      <td>0</td>\n",
       "      <td>26.0</td>\n",
       "      <td>1</td>\n",
       "      <td>0</td>\n",
       "      <td>12</td>\n",
       "      <td>1</td>\n",
       "      <td>0</td>\n",
       "      <td>1</td>\n",
       "      <td>1</td>\n",
       "      <td>0</td>\n",
       "      <td>0</td>\n",
       "    </tr>\n",
       "    <tr>\n",
       "      <th>890</th>\n",
       "      <td>3</td>\n",
       "      <td>0</td>\n",
       "      <td>0</td>\n",
       "      <td>32.0</td>\n",
       "      <td>0</td>\n",
       "      <td>0</td>\n",
       "      <td>12</td>\n",
       "      <td>1</td>\n",
       "      <td>0</td>\n",
       "      <td>1</td>\n",
       "      <td>0</td>\n",
       "      <td>1</td>\n",
       "      <td>0</td>\n",
       "    </tr>\n",
       "  </tbody>\n",
       "</table>\n",
       "<p>891 rows × 13 columns</p>\n",
       "</div>"
      ],
      "text/plain": [
       "     Pclass  SibSp  Parch   Age  Fare_range  N.Relatives  Title_Class  \\\n",
       "0         3      1      0  22.0           0            1           12   \n",
       "1         1      1      0  38.0           2            1           13   \n",
       "2         3      0      0  26.0           0            0            9   \n",
       "3         1      1      0  35.0           2            1           13   \n",
       "4         3      0      0  35.0           0            0           12   \n",
       "..      ...    ...    ...   ...         ...          ...          ...   \n",
       "886       2      0      0  27.0           0            0           15   \n",
       "887       1      0      0  19.0           1            0            9   \n",
       "888       3      1      2  30.0           0            3            9   \n",
       "889       1      0      0  26.0           1            0           12   \n",
       "890       3      0      0  32.0           0            0           12   \n",
       "\n",
       "     Company  Sex_female  Sex_male  Embarked_C  Embarked_Q  Embarked_S  \n",
       "0          1           0         1           0           0           1  \n",
       "1          1           1         0           1           0           0  \n",
       "2          1           1         0           0           0           1  \n",
       "3          2           1         0           0           0           1  \n",
       "4          1           0         1           0           0           1  \n",
       "..       ...         ...       ...         ...         ...         ...  \n",
       "886        1           0         1           0           0           1  \n",
       "887        1           1         0           0           0           1  \n",
       "888        2           1         0           0           0           1  \n",
       "889        1           0         1           1           0           0  \n",
       "890        1           0         1           0           1           0  \n",
       "\n",
       "[891 rows x 13 columns]"
      ]
     },
     "execution_count": 1257,
     "metadata": {},
     "output_type": "execute_result"
    }
   ],
   "source": [
    "X = encoded_data(train_data, features)\n",
    "X"
   ]
  },
  {
   "cell_type": "code",
   "execution_count": 1258,
   "metadata": {
    "execution": {
     "iopub.execute_input": "2021-08-04T12:50:42.189492Z",
     "iopub.status.busy": "2021-08-04T12:50:42.188981Z",
     "iopub.status.idle": "2021-08-04T12:50:42.221153Z",
     "shell.execute_reply": "2021-08-04T12:50:42.219895Z",
     "shell.execute_reply.started": "2021-08-04T12:50:42.189441Z"
    }
   },
   "outputs": [],
   "source": [
    "X = encoded_data(train_data, features) #Training Set Features\n",
    "y = train_data[\"Survived\"] #Training Set Labels\n",
    "X_predict = pd.get_dummies(test_data[features]) #Prediction_set (labels to be predicted)"
   ]
  },
  {
   "cell_type": "markdown",
   "metadata": {},
   "source": [
    "## Testing model performances"
   ]
  },
  {
   "cell_type": "code",
   "execution_count": 1259,
   "metadata": {},
   "outputs": [],
   "source": [
    "def random_forest_model(X_train, y_train, X_test, y_test, variable):\n",
    "    depth = []\n",
    "    accuracy_scores = []\n",
    "    f1_scores = []\n",
    "    df = pd.DataFrame(columns = {variable, 'varname', 'accuracy_scores', 'f1_scores'})\n",
    "    if variable == 'n_estimators':\n",
    "        for i in range(1, 300, 50):\n",
    "            model = RandomForestClassifier(n_estimators=i, max_features = 'sqrt',bootstrap = True, max_depth=4, random_state=3)\n",
    "            model.fit(X_train, y_train)\n",
    "            predictions = model.predict(X_test)\n",
    "            acc = accuracy_score(y_test, predictions)\n",
    "            depth.append(i)\n",
    "            f1 = f1_score(y_test, predictions)\n",
    "            accuracy_scores.append(acc)\n",
    "            f1_scores.append(f1)\n",
    "    elif variable == 'max_depth':\n",
    "        for i in range(1, 15):\n",
    "            model = RandomForestClassifier(n_estimators=150, max_features = 'sqrt',bootstrap = True, max_depth=i, random_state=3)\n",
    "            model.fit(X_train, y_train)\n",
    "            predictions = model.predict(X_test)\n",
    "            acc = accuracy_score(y_test, predictions)\n",
    "            depth.append(i)\n",
    "            f1 = f1_score(y_test, predictions)\n",
    "            accuracy_scores.append(acc)\n",
    "            f1_scores.append(f1)\n",
    "    elif variable == 'random_state':\n",
    "        for i in range(1, 5):\n",
    "            model = RandomForestClassifier(n_estimators=150, max_features = 'sqrt',bootstrap = True, max_depth=4, random_state=i)\n",
    "            model.fit(X_train, y_train)\n",
    "            predictions = model.predict(X_test)\n",
    "            acc = accuracy_score(y_test, predictions)\n",
    "            depth.append(i)\n",
    "            f1 = f1_score(y_test, predictions)\n",
    "            accuracy_scores.append(acc)\n",
    "            f1_scores.append(f1)\n",
    "    df['varname'] = variable\n",
    "    df[variable] = depth\n",
    "    df['accuracy_scores'] = accuracy_scores\n",
    "    df['f1_scores'] = f1_scores\n",
    "    return df\n",
    "\n",
    "def plot_test_results(df, variable, description):\n",
    "    df.plot(x = variable, y = ['accuracy_scores', 'f1_scores'], title = description)\n",
    "\n",
    "def test_model(X, y, val_size = 0.1, test_size = 0.2):\n",
    "    size = val_size + test_size\n",
    "    X_train, X_test, y_train, y_test = train_test_split(X, y, test_size=size, random_state=42)\n",
    "    X_val, X_test, y_val, y_test = train_test_split(X_test, y_test, test_size=test_size, random_state=42)\n",
    "    for var in ['random_state', 'max_depth', 'n_estimators']:\n",
    "        test = random_forest_model(X_train, y_train, X_test, y_test, var)\n",
    "        plot_test_results(test, var, 'TEST SET')\n",
    "    for var in ['random_state', 'max_depth', 'n_estimators']:\n",
    "        test = random_forest_model(X_train, y_train, X_val, y_val, var)\n",
    "        plot_test_results(test, var, 'VALIDATION SET')\n"
   ]
  },
  {
   "cell_type": "code",
   "execution_count": 1260,
   "metadata": {
    "scrolled": false
   },
   "outputs": [
    {
     "data": {
      "image/png": "[encoded data removed]",
      "text/plain": [
       "<Figure size 432x288 with 1 Axes>"
      ]
     },
     "metadata": {
      "needs_background": "light"
     },
     "output_type": "display_data"
    },
    {
     "data": {
      "image/png": "[encoded data removed]",
      "text/plain": [
       "<Figure size 432x288 with 1 Axes>"
      ]
     },
     "metadata": {
      "needs_background": "light"
     },
     "output_type": "display_data"
    },
    {
     "data": {
      "image/png": "[encoded data removed]",
      "text/plain": [
       "<Figure size 432x288 with 1 Axes>"
      ]
     },
     "metadata": {
      "needs_background": "light"
     },
     "output_type": "display_data"
    },
    {
     "data": {
      "image/png": "[encoded data removed]",
      "text/plain": [
       "<Figure size 432x288 with 1 Axes>"
      ]
     },
     "metadata": {
      "needs_background": "light"
     },
     "output_type": "display_data"
    },
    {
     "data": {
      "image/png": "[encoded data removed]",
      "text/plain": [
       "<Figure size 432x288 with 1 Axes>"
      ]
     },
     "metadata": {
      "needs_background": "light"
     },
     "output_type": "display_data"
    },
    {
     "data": {
      "image/png": "[encoded data removed]",
      "text/plain": [
       "<Figure size 432x288 with 1 Axes>"
      ]
     },
     "metadata": {
      "needs_background": "light"
     },
     "output_type": "display_data"
    }
   ],
   "source": [
    "test_model(X, y)"
   ]
  },
  {
   "cell_type": "markdown",
   "metadata": {},
   "source": [
    "# Model "
   ]
  },
  {
   "cell_type": "code",
   "execution_count": 1261,
   "metadata": {},
   "outputs": [],
   "source": [
    "X_train, X_test, y_train, y_test = train_test_split(X, y, test_size=0.30, random_state=42)"
   ]
  },
  {
   "cell_type": "code",
   "execution_count": null,
   "metadata": {},
   "outputs": [],
   "source": [
    "test_model = RandomForestClassifier()"
   ]
  },
  {
   "cell_type": "code",
   "execution_count": 1273,
   "metadata": {},
   "outputs": [],
   "source": [
    "n_estimators = list(range(10,110,10))\n",
    "max_features = ['auto', 'sqrt']\n",
    "max_depth = [2,4,6]\n",
    "min_samples_split = [2, 5]\n",
    "min_samples_leaf = [1, 2]\n",
    "bootstrap = [True, False]"
   ]
  },
  {
   "cell_type": "code",
   "execution_count": 1274,
   "metadata": {},
   "outputs": [],
   "source": [
    "    hyperparam = {'n_estimators': n_estimators,\n",
    "                  'max_features': max_features,\n",
    "                  'max_depth': max_depth,\n",
    "                  'min_samples_split': min_samples_split,\n",
    "                  'min_samples_leaf': min_samples_leaf,\n",
    "                  'bootstrap': bootstrap}"
   ]
  },
  {
   "cell_type": "code",
   "execution_count": 1275,
   "metadata": {},
   "outputs": [],
   "source": [
    "rf_Grid = GridSearchCV(estimator = model, param_grid = hyperparam, cv = 3, verbose = 2, n_jobs = 4)"
   ]
  },
  {
   "cell_type": "code",
   "execution_count": 1277,
   "metadata": {},
   "outputs": [
    {
     "name": "stdout",
     "output_type": "stream",
     "text": [
      "Fitting 3 folds for each of 480 candidates, totalling 1440 fits\n"
     ]
    },
    {
     "name": "stderr",
     "output_type": "stream",
     "text": [
      "[Parallel(n_jobs=4)]: Using backend LokyBackend with 4 concurrent workers.\n",
      "[Parallel(n_jobs=4)]: Done  33 tasks      | elapsed:   14.1s\n",
      "[Parallel(n_jobs=4)]: Done 154 tasks      | elapsed:   21.8s\n",
      "[Parallel(n_jobs=4)]: Done 357 tasks      | elapsed:   34.4s\n",
      "[Parallel(n_jobs=4)]: Done 640 tasks      | elapsed:   52.3s\n",
      "[Parallel(n_jobs=4)]: Done 1005 tasks      | elapsed:  1.2min\n",
      "[Parallel(n_jobs=4)]: Done 1440 out of 1440 | elapsed:  1.6min finished\n"
     ]
    },
    {
     "data": {
      "text/plain": [
       "GridSearchCV(cv=3,\n",
       "             estimator=RandomForestClassifier(max_depth=4, max_features='sqrt',\n",
       "                                              random_state=1),\n",
       "             n_jobs=4,\n",
       "             param_grid={'bootstrap': [True, False], 'max_depth': [2, 4, 6],\n",
       "                         'max_features': ['auto', 'sqrt'],\n",
       "                         'min_samples_leaf': [1, 2],\n",
       "                         'min_samples_split': [2, 5],\n",
       "                         'n_estimators': [10, 20, 30, 40, 50, 60, 70, 80, 90,\n",
       "                                          100]},\n",
       "             verbose=2)"
      ]
     },
     "execution_count": 1277,
     "metadata": {},
     "output_type": "execute_result"
    }
   ],
   "source": [
    "rf_Grid.fit(X_train, y_train)"
   ]
  },
  {
   "cell_type": "code",
   "execution_count": 1279,
   "metadata": {},
   "outputs": [
    {
     "data": {
      "text/plain": [
       "{'bootstrap': False,\n",
       " 'max_depth': 6,\n",
       " 'max_features': 'auto',\n",
       " 'min_samples_leaf': 2,\n",
       " 'min_samples_split': 2,\n",
       " 'n_estimators': 90}"
      ]
     },
     "execution_count": 1279,
     "metadata": {},
     "output_type": "execute_result"
    }
   ],
   "source": [
    "rf_Grid.best_params_"
   ]
  },
  {
   "cell_type": "code",
   "execution_count": 1312,
   "metadata": {},
   "outputs": [],
   "source": [
    "model = RandomForestClassifier(bootstrap= False,\n",
    "                               max_depth= 4,\n",
    "                               max_features= 'sqrt',\n",
    "                               min_samples_leaf= 4,\n",
    "                               min_samples_split= 5,\n",
    "                               n_estimators= 120, \n",
    "                               random_state=3)\n",
    "\n",
    "model.fit(X_train, y_train)\n",
    "predictions_ytest = model.predict(X_test)\n",
    "predictions_ypredict = model.predict(X_predict)"
   ]
  },
  {
   "cell_type": "code",
   "execution_count": 1313,
   "metadata": {},
   "outputs": [
    {
     "data": {
      "text/plain": [
       "0.8283582089552238"
      ]
     },
     "execution_count": 1313,
     "metadata": {},
     "output_type": "execute_result"
    }
   ],
   "source": [
    "accuracy_score(predictions_ytest, y_test)"
   ]
  },
  {
   "cell_type": "code",
   "execution_count": 1314,
   "metadata": {},
   "outputs": [
    {
     "data": {
      "text/plain": [
       "0.7788461538461539"
      ]
     },
     "execution_count": 1314,
     "metadata": {},
     "output_type": "execute_result"
    }
   ],
   "source": [
    "f1_score(predictions_ytest, y_test)"
   ]
  },
  {
   "cell_type": "code",
   "execution_count": 1315,
   "metadata": {},
   "outputs": [
    {
     "data": {
      "text/plain": [
       "<sklearn.metrics._plot.confusion_matrix.ConfusionMatrixDisplay at 0x2d5fe43dfa0>"
      ]
     },
     "execution_count": 1315,
     "metadata": {},
     "output_type": "execute_result"
    },
    {
     "data": {
      "image/png": "[encoded data removed]",
      "text/plain": [
       "<Figure size 432x288 with 2 Axes>"
      ]
     },
     "metadata": {
      "needs_background": "light"
     },
     "output_type": "display_data"
    }
   ],
   "source": [
    "plot_confusion_matrix(model, X_test, y_test )"
   ]
  },
  {
   "cell_type": "code",
   "execution_count": 1285,
   "metadata": {},
   "outputs": [
    {
     "data": {
      "text/html": [
       "<div>\n",
       "<style scoped>\n",
       "    .dataframe tbody tr th:only-of-type {\n",
       "        vertical-align: middle;\n",
       "    }\n",
       "\n",
       "    .dataframe tbody tr th {\n",
       "        vertical-align: top;\n",
       "    }\n",
       "\n",
       "    .dataframe thead th {\n",
       "        text-align: right;\n",
       "    }\n",
       "</style>\n",
       "<table border=\"1\" class=\"dataframe\">\n",
       "  <thead>\n",
       "    <tr style=\"text-align: right;\">\n",
       "      <th></th>\n",
       "      <th></th>\n",
       "      <th>PassengerId</th>\n",
       "      <th>y_test</th>\n",
       "      <th>predictions_ytest</th>\n",
       "      <th>Survived</th>\n",
       "      <th>Pclass</th>\n",
       "      <th>Age</th>\n",
       "      <th>SibSp</th>\n",
       "      <th>Parch</th>\n",
       "      <th>Fare</th>\n",
       "      <th>Fare_range</th>\n",
       "      <th>Title_Class</th>\n",
       "      <th>N.Relatives</th>\n",
       "      <th>Company</th>\n",
       "    </tr>\n",
       "    <tr>\n",
       "      <th>Sex</th>\n",
       "      <th>check</th>\n",
       "      <th></th>\n",
       "      <th></th>\n",
       "      <th></th>\n",
       "      <th></th>\n",
       "      <th></th>\n",
       "      <th></th>\n",
       "      <th></th>\n",
       "      <th></th>\n",
       "      <th></th>\n",
       "      <th></th>\n",
       "      <th></th>\n",
       "      <th></th>\n",
       "      <th></th>\n",
       "    </tr>\n",
       "  </thead>\n",
       "  <tbody>\n",
       "    <tr>\n",
       "      <th rowspan=\"2\" valign=\"top\">female</th>\n",
       "      <th>-1</th>\n",
       "      <td>390.142857</td>\n",
       "      <td>0.0</td>\n",
       "      <td>1.0</td>\n",
       "      <td>1.000000</td>\n",
       "      <td>1.714286</td>\n",
       "      <td>25.142857</td>\n",
       "      <td>0.571429</td>\n",
       "      <td>0.571429</td>\n",
       "      <td>64.810714</td>\n",
       "      <td>2.142857</td>\n",
       "      <td>10.142857</td>\n",
       "      <td>1.142857</td>\n",
       "      <td>1.428571</td>\n",
       "    </tr>\n",
       "    <tr>\n",
       "      <th>1</th>\n",
       "      <td>383.600000</td>\n",
       "      <td>1.0</td>\n",
       "      <td>0.0</td>\n",
       "      <td>0.666667</td>\n",
       "      <td>2.133333</td>\n",
       "      <td>23.666667</td>\n",
       "      <td>0.933333</td>\n",
       "      <td>0.933333</td>\n",
       "      <td>45.501387</td>\n",
       "      <td>1.266667</td>\n",
       "      <td>10.333333</td>\n",
       "      <td>1.866667</td>\n",
       "      <td>2.333333</td>\n",
       "    </tr>\n",
       "    <tr>\n",
       "      <th rowspan=\"2\" valign=\"top\">male</th>\n",
       "      <th>-1</th>\n",
       "      <td>455.700000</td>\n",
       "      <td>0.0</td>\n",
       "      <td>1.0</td>\n",
       "      <td>0.000000</td>\n",
       "      <td>2.600000</td>\n",
       "      <td>35.400000</td>\n",
       "      <td>0.400000</td>\n",
       "      <td>0.000000</td>\n",
       "      <td>15.683330</td>\n",
       "      <td>0.200000</td>\n",
       "      <td>11.200000</td>\n",
       "      <td>0.400000</td>\n",
       "      <td>1.100000</td>\n",
       "    </tr>\n",
       "    <tr>\n",
       "      <th>1</th>\n",
       "      <td>466.055556</td>\n",
       "      <td>1.0</td>\n",
       "      <td>0.0</td>\n",
       "      <td>0.222222</td>\n",
       "      <td>2.500000</td>\n",
       "      <td>34.125000</td>\n",
       "      <td>0.055556</td>\n",
       "      <td>0.333333</td>\n",
       "      <td>19.820144</td>\n",
       "      <td>0.444444</td>\n",
       "      <td>11.555556</td>\n",
       "      <td>0.388889</td>\n",
       "      <td>1.222222</td>\n",
       "    </tr>\n",
       "  </tbody>\n",
       "</table>\n",
       "</div>"
      ],
      "text/plain": [
       "              PassengerId  y_test  predictions_ytest  Survived    Pclass  \\\n",
       "Sex    check                                                               \n",
       "female -1      390.142857     0.0                1.0  1.000000  1.714286   \n",
       "        1      383.600000     1.0                0.0  0.666667  2.133333   \n",
       "male   -1      455.700000     0.0                1.0  0.000000  2.600000   \n",
       "        1      466.055556     1.0                0.0  0.222222  2.500000   \n",
       "\n",
       "                    Age     SibSp     Parch       Fare  Fare_range  \\\n",
       "Sex    check                                                         \n",
       "female -1     25.142857  0.571429  0.571429  64.810714    2.142857   \n",
       "        1     23.666667  0.933333  0.933333  45.501387    1.266667   \n",
       "male   -1     35.400000  0.400000  0.000000  15.683330    0.200000   \n",
       "        1     34.125000  0.055556  0.333333  19.820144    0.444444   \n",
       "\n",
       "              Title_Class  N.Relatives   Company  \n",
       "Sex    check                                      \n",
       "female -1       10.142857     1.142857  1.428571  \n",
       "        1       10.333333     1.866667  2.333333  \n",
       "male   -1       11.200000     0.400000  1.100000  \n",
       "        1       11.555556     0.388889  1.222222  "
      ]
     },
     "execution_count": 1285,
     "metadata": {},
     "output_type": "execute_result"
    }
   ],
   "source": [
    "checkdf = y_test.reset_index().rename(columns={'Survived':'y_test', 'index':'PassengerId'})\n",
    "checkdf['predictions_ytest'] = predictions_ytest\n",
    "checkdf = pd.merge(checkdf, train_data, on = 'PassengerId', how = 'left')\n",
    "checkdf['check'] = checkdf['y_test'] - checkdf['predictions_ytest']\n",
    "checkdf.loc[checkdf['check'] != 0].groupby(by=['Sex', 'check']).mean()"
   ]
  },
  {
   "cell_type": "code",
   "execution_count": 1290,
   "metadata": {},
   "outputs": [],
   "source": [
    "submission = pd.DataFrame(data = list(zip(test_data['PassengerId'], predictions_ypredict)), columns = {'PassengerId', 'Survived'})"
   ]
  },
  {
   "cell_type": "code",
   "execution_count": 1293,
   "metadata": {},
   "outputs": [],
   "source": [
    "submission.to_csv('my_submission.csv', index = False)"
   ]
  },
  {
   "cell_type": "code",
   "execution_count": null,
   "metadata": {},
   "outputs": [],
   "source": []
  }
 ],
 "metadata": {
  "kernelspec": {
   "display_name": "Python 3",
   "language": "python",
   "name": "python3"
  },
  "language_info": {
   "codemirror_mode": {
    "name": "ipython",
    "version": 3
   },
   "file_extension": ".py",
   "mimetype": "text/x-python",
   "name": "python",
   "nbconvert_exporter": "python",
   "pygments_lexer": "ipython3",
   "version": "3.8.3"
  }
 },
 "nbformat": 4,
 "nbformat_minor": 4
}
